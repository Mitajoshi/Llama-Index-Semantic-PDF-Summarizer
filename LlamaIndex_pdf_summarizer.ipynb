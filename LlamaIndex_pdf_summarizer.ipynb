{
 "cells": [
  {
   "cell_type": "markdown",
   "id": "61c0bd8a",
   "metadata": {},
   "source": [
    "# LLamaIndex"
   ]
  },
  {
   "cell_type": "code",
   "execution_count": 1,
   "id": "fc267cf3",
   "metadata": {},
   "outputs": [],
   "source": [
    "import os\n",
    "import getpass"
   ]
  },
  {
   "cell_type": "code",
   "execution_count": 2,
   "id": "05789c6b",
   "metadata": {},
   "outputs": [
    {
     "name": "stdout",
     "output_type": "stream",
     "text": [
      "········\n"
     ]
    }
   ],
   "source": [
    "# OPENAI_API_KEY\n",
    "open_ai_key = getpass.getpass()\n",
    "os.environ[\"OPENAI_API_KEY\"] = open_ai_key"
   ]
  },
  {
   "cell_type": "code",
   "execution_count": null,
   "id": "b63e1583",
   "metadata": {},
   "outputs": [],
   "source": [
    "# pip install llama-index"
   ]
  },
  {
   "cell_type": "code",
   "execution_count": null,
   "id": "183f581a",
   "metadata": {},
   "outputs": [],
   "source": [
    "# pip install pypdf"
   ]
  },
  {
   "cell_type": "code",
   "execution_count": 3,
   "id": "458d6688",
   "metadata": {},
   "outputs": [],
   "source": [
    "# Vector Store (Embeddings) & Document Reader\n",
    "\n",
    "from llama_index.core import VectorStoreIndex,SimpleDirectoryReader,ServiceContext,PromptTemplate"
   ]
  },
  {
   "cell_type": "markdown",
   "id": "69373f4c",
   "metadata": {},
   "source": [
    "# Semantic Search"
   ]
  },
  {
   "cell_type": "markdown",
   "id": "8b5b923f",
   "metadata": {},
   "source": [
    "### Read pdf(s) from directory"
   ]
  },
  {
   "cell_type": "code",
   "execution_count": 4,
   "id": "2d49485e",
   "metadata": {
    "scrolled": true
   },
   "outputs": [],
   "source": [
    "documents=SimpleDirectoryReader(\"data\").load_data() "
   ]
  },
  {
   "cell_type": "code",
   "execution_count": 5,
   "id": "faf085d8",
   "metadata": {},
   "outputs": [
    {
     "data": {
      "text/plain": [
       "[Document(id_='880b90d1-3f56-4a07-a4b9-5af156e47eae', embedding=None, metadata={'page_label': '1', 'file_name': 'sample-resumes_one.pdf', 'file_path': 'C:\\\\Users\\\\Madhumita\\\\Documents\\\\Tina Docs\\\\UT BC\\\\Proj 4\\\\MY OWN EXPERIMENTS\\\\data\\\\sample-resumes_one.pdf', 'file_type': 'application/pdf', 'file_size': 67244, 'creation_date': '2024-05-02', 'last_modified_date': '2024-05-02'}, excluded_embed_metadata_keys=['file_name', 'file_type', 'file_size', 'creation_date', 'last_modified_date', 'last_accessed_date'], excluded_llm_metadata_keys=['file_name', 'file_type', 'file_size', 'creation_date', 'last_modified_date', 'last_accessed_date'], relationships={}, text='2 Cocoa Touch  \\nctouch@gmail.com  | 844-555-0990  \\nOBJECTIVE:  \\nAn internship or research opportunity that will allow me to utilize my problem solving skills and attention to \\ndetail  to further develop my abilities in the field of computer science.  \\n EDUCATION:  \\nCarnegie Mellon University , Pittsburgh PA  \\nBachelor of Science in Computer Science, May 2018  \\nWalnut Hills High School , Cincinnati, OH  \\nDiploma with Honors , June 2014  GPA 4.0/4.0  \\n COURSEWORK:  \\nAnalysis  I and II; Introduction to Programming; Concepts of Mathematics; Principles of Imperative \\nProgramming, Great Theoretical Ideas in Computer Science  \\n PROJECT:  \\nProgramming Homework: An Adventure Game ( Fall 2014 ) \\n*Created a text -based adve nture game with a graphical interface in Python.  \\n EXPERIENCE:  \\n*Intern for Dr. Richard M. Males, Cincinnati OH (November 2013 -January 2014):  \\nAssisted in the reformatting of Excel files for data analysis of expert reviews of flood rates and how  they \\nimpact different building structures.  \\n*Tutor for middle school students  with East End Youth Projects (Fall 2014 -Present)  \\n \\nTECHNICAL SKILLS:  \\nProficient in Python.  \\n ACTIVITIES:  \\nCMU KGB, Fall 2014 -Present.  \\nVarsity High School Cross Country, Fall  2012- Fall 2013 (Team Captain, 2013).  \\nVarsity High School Track, Spring 2012 -Spring 2014  \\nJunior Engineering Technical Society, 2012 -2014.  \\n \\nHONORS:  \\nCarnegie Scholarship, Fall 2014 -Present.  \\nNational Merit Scholar, 2014  \\nNational AP Scholar Award, 2004  \\nCum Lau de Society, 2014  \\n ', start_char_idx=None, end_char_idx=None, text_template='{metadata_str}\\n\\n{content}', metadata_template='{key}: {value}', metadata_seperator='\\n')]"
      ]
     },
     "execution_count": 5,
     "metadata": {},
     "output_type": "execute_result"
    }
   ],
   "source": [
    "documents"
   ]
  },
  {
   "cell_type": "code",
   "execution_count": 6,
   "id": "965fff50",
   "metadata": {},
   "outputs": [
    {
     "data": {
      "application/vnd.jupyter.widget-view+json": {
       "model_id": "66151872467b48dfb8695dcb4fa820a0",
       "version_major": 2,
       "version_minor": 0
      },
      "text/plain": [
       "Parsing nodes:   0%|          | 0/1 [00:00<?, ?it/s]"
      ]
     },
     "metadata": {},
     "output_type": "display_data"
    },
    {
     "data": {
      "application/vnd.jupyter.widget-view+json": {
       "model_id": "b7352a9f99084251b6f073a3f85f1e73",
       "version_major": 2,
       "version_minor": 0
      },
      "text/plain": [
       "Generating embeddings:   0%|          | 0/1 [00:00<?, ?it/s]"
      ]
     },
     "metadata": {},
     "output_type": "display_data"
    }
   ],
   "source": [
    "# Initialize index - this will convert documents into embeddings\n",
    "# making API calls to OpenAI \n",
    "\n",
    "document_index=VectorStoreIndex.from_documents(documents,show_progress=True)"
   ]
  },
  {
   "cell_type": "markdown",
   "id": "e2998632",
   "metadata": {},
   "source": [
    "### Run this to load from storage"
   ]
  },
  {
   "cell_type": "code",
   "execution_count": 7,
   "id": "01955dec",
   "metadata": {},
   "outputs": [],
   "source": [
    "query_engine=document_index.as_query_engine()"
   ]
  },
  {
   "cell_type": "code",
   "execution_count": 8,
   "id": "11e08f23",
   "metadata": {},
   "outputs": [
    {
     "data": {
      "text/plain": [
       "'The name of the applicant is Cocoa Touch.'"
      ]
     },
     "execution_count": 8,
     "metadata": {},
     "output_type": "execute_result"
    }
   ],
   "source": [
    "response_predictions = query_engine.query(\"What is the name of the applicant?\")\n",
    "response_predictions.response"
   ]
  },
  {
   "cell_type": "code",
   "execution_count": 9,
   "id": "cab54b66",
   "metadata": {},
   "outputs": [
    {
     "data": {
      "text/plain": [
       "'The objective in the Resume is to seek an internship or research opportunity to utilize problem-solving skills and attention to detail for further development in the field of computer science.'"
      ]
     },
     "execution_count": 9,
     "metadata": {},
     "output_type": "execute_result"
    }
   ],
   "source": [
    "response_predictions = query_engine.query(\"What is the objective in the Resume?\")\n",
    "response_predictions.response"
   ]
  },
  {
   "cell_type": "code",
   "execution_count": 10,
   "id": "8760f848",
   "metadata": {},
   "outputs": [
    {
     "data": {
      "text/plain": [
       "'The applicant has a Bachelor of Science in Computer Science from Carnegie Mellon University in Pittsburgh, PA, received in May 2018. Additionally, the applicant graduated with honors from Walnut Hills High School in Cincinnati, OH in June 2014 with a GPA of 4.0/4.0.'"
      ]
     },
     "execution_count": 10,
     "metadata": {},
     "output_type": "execute_result"
    }
   ],
   "source": [
    "response_predictions = query_engine.query(\"What is the Education background of the applicant?\")\n",
    "response_predictions.response"
   ]
  },
  {
   "cell_type": "code",
   "execution_count": null,
   "id": "fff1b3eb",
   "metadata": {},
   "outputs": [],
   "source": [
    "# Code block for user to provide additional question as needed\n",
    "\n",
    "# Prompt the user to enter their question\n",
    "user_question = input(\"Please enter your question: \")\n",
    "\n",
    "# Use the user-provided question to make the query to the query engine\n",
    "response_predictions = query_engine.query(user_question)\n",
    "response = response_predictions.response\n",
    "\n",
    "# Print the response\n",
    "print(response)"
   ]
  },
  {
   "cell_type": "markdown",
   "id": "2254e7af",
   "metadata": {},
   "source": [
    "## Pretty print the resources "
   ]
  },
  {
   "cell_type": "code",
   "execution_count": 11,
   "id": "676a7f28",
   "metadata": {},
   "outputs": [
    {
     "name": "stdout",
     "output_type": "stream",
     "text": [
      "['Any', 'Dict', 'NodeWithScore', 'Response', '__builtins__', '__cached__', '__doc__', '__file__', '__loader__', '__name__', '__package__', '__spec__', 'pprint', 'pprint_metadata', 'pprint_response', 'pprint_source_node', 'textwrap', 'truncate_text']\n"
     ]
    }
   ],
   "source": [
    "# from llama_index.response.pprint_utils import pprint_response\n",
    "# from llama_index.core.pprint_utils import pprint_response\n",
    "from llama_index.core.response import pprint_utils\n",
    "\n",
    "# List the attributes and functions of the pprint_utils module\n",
    "print(dir(pprint_utils))\n"
   ]
  },
  {
   "cell_type": "code",
   "execution_count": 12,
   "id": "8ba50e9a",
   "metadata": {},
   "outputs": [
    {
     "data": {
      "text/plain": [
       "Response(response=Response(response='The applicant has a Bachelor of Science in Computer Science from Carnegie Mellon University in Pittsburgh, PA, received in May 2018. Additionally, the applicant graduated with honors from Walnut Hills High School in Cincinnati, OH in June 2014 with a GPA of 4.0/4.0.', source_nodes=[NodeWithScore(node=TextNode(id_='dfda5330-bbb4-42f7-82a4-c487706b4848', embedding=None, metadata={'page_label': '1', 'file_name': 'sample-resumes_one.pdf', 'file_path': 'C:\\\\Users\\\\Madhumita\\\\Documents\\\\Tina Docs\\\\UT BC\\\\Proj 4\\\\MY OWN EXPERIMENTS\\\\data\\\\sample-resumes_one.pdf', 'file_type': 'application/pdf', 'file_size': 67244, 'creation_date': '2024-05-02', 'last_modified_date': '2024-05-02'}, excluded_embed_metadata_keys=['file_name', 'file_type', 'file_size', 'creation_date', 'last_modified_date', 'last_accessed_date'], excluded_llm_metadata_keys=['file_name', 'file_type', 'file_size', 'creation_date', 'last_modified_date', 'last_accessed_date'], relationships={<NodeRelationship.SOURCE: '1'>: RelatedNodeInfo(node_id='880b90d1-3f56-4a07-a4b9-5af156e47eae', node_type=<ObjectType.DOCUMENT: '4'>, metadata={'page_label': '1', 'file_name': 'sample-resumes_one.pdf', 'file_path': 'C:\\\\Users\\\\Madhumita\\\\Documents\\\\Tina Docs\\\\UT BC\\\\Proj 4\\\\MY OWN EXPERIMENTS\\\\data\\\\sample-resumes_one.pdf', 'file_type': 'application/pdf', 'file_size': 67244, 'creation_date': '2024-05-02', 'last_modified_date': '2024-05-02'}, hash='0814b2f3ce18779141451556e794237202db4518943615b57a880d040679c78d')}, text='2 Cocoa Touch  \\nctouch@gmail.com  | 844-555-0990  \\nOBJECTIVE:  \\nAn internship or research opportunity that will allow me to utilize my problem solving skills and attention to \\ndetail  to further develop my abilities in the field of computer science.  \\n EDUCATION:  \\nCarnegie Mellon University , Pittsburgh PA  \\nBachelor of Science in Computer Science, May 2018  \\nWalnut Hills High School , Cincinnati, OH  \\nDiploma with Honors , June 2014  GPA 4.0/4.0  \\n COURSEWORK:  \\nAnalysis  I and II; Introduction to Programming; Concepts of Mathematics; Principles of Imperative \\nProgramming, Great Theoretical Ideas in Computer Science  \\n PROJECT:  \\nProgramming Homework: An Adventure Game ( Fall 2014 ) \\n*Created a text -based adve nture game with a graphical interface in Python.  \\n EXPERIENCE:  \\n*Intern for Dr. Richard M. Males, Cincinnati OH (November 2013 -January 2014):  \\nAssisted in the reformatting of Excel files for data analysis of expert reviews of flood rates and how  they \\nimpact different building structures.  \\n*Tutor for middle school students  with East End Youth Projects (Fall 2014 -Present)  \\n \\nTECHNICAL SKILLS:  \\nProficient in Python.  \\n ACTIVITIES:  \\nCMU KGB, Fall 2014 -Present.  \\nVarsity High School Cross Country, Fall  2012- Fall 2013 (Team Captain, 2013).  \\nVarsity High School Track, Spring 2012 -Spring 2014  \\nJunior Engineering Technical Society, 2012 -2014.  \\n \\nHONORS:  \\nCarnegie Scholarship, Fall 2014 -Present.  \\nNational Merit Scholar, 2014  \\nNational AP Scholar Award, 2004  \\nCum Lau de Society, 2014', start_char_idx=0, end_char_idx=1531, text_template='{metadata_str}\\n\\n{content}', metadata_template='{key}: {value}', metadata_seperator='\\n'), score=0.7832407091761976)], metadata={'dfda5330-bbb4-42f7-82a4-c487706b4848': {'page_label': '1', 'file_name': 'sample-resumes_one.pdf', 'file_path': 'C:\\\\Users\\\\Madhumita\\\\Documents\\\\Tina Docs\\\\UT BC\\\\Proj 4\\\\MY OWN EXPERIMENTS\\\\data\\\\sample-resumes_one.pdf', 'file_type': 'application/pdf', 'file_size': 67244, 'creation_date': '2024-05-02', 'last_modified_date': '2024-05-02'}}), source_nodes=[], metadata=None)"
      ]
     },
     "execution_count": 12,
     "metadata": {},
     "output_type": "execute_result"
    }
   ],
   "source": [
    "pprint_utils.Response(response_predictions, show_source=True)"
   ]
  },
  {
   "cell_type": "markdown",
   "id": "c2ec35e0",
   "metadata": {},
   "source": [
    "## Logging - See what's happening behind the scenes"
   ]
  },
  {
   "cell_type": "code",
   "execution_count": 13,
   "id": "da55e76d",
   "metadata": {},
   "outputs": [],
   "source": [
    "import logging\n",
    "import sys\n",
    "\n",
    "logging.basicConfig(stream=sys.stdout, level=logging.DEBUG)\n",
    "logging.getLogger().addHandler(logging.StreamHandler(stream=sys.stdout))"
   ]
  },
  {
   "cell_type": "code",
   "execution_count": 14,
   "id": "f2884de4",
   "metadata": {},
   "outputs": [
    {
     "name": "stdout",
     "output_type": "stream",
     "text": [
      "DEBUG:openai._base_client:Request options: {'method': 'post', 'url': '/embeddings', 'files': None, 'post_parser': <function Embeddings.create.<locals>.parser at 0x0000023AD06F13F0>, 'json_data': {'input': ['List the projects completed by the Applicant.'], 'model': 'text-embedding-ada-002', 'encoding_format': 'base64'}}\n",
      "Request options: {'method': 'post', 'url': '/embeddings', 'files': None, 'post_parser': <function Embeddings.create.<locals>.parser at 0x0000023AD06F13F0>, 'json_data': {'input': ['List the projects completed by the Applicant.'], 'model': 'text-embedding-ada-002', 'encoding_format': 'base64'}}\n",
      "DEBUG:httpcore.connection:close.started\n",
      "close.started\n",
      "DEBUG:httpcore.connection:close.complete\n",
      "close.complete\n",
      "DEBUG:httpcore.connection:connect_tcp.started host='api.openai.com' port=443 local_address=None timeout=60.0 socket_options=None\n",
      "connect_tcp.started host='api.openai.com' port=443 local_address=None timeout=60.0 socket_options=None\n",
      "DEBUG:httpcore.connection:connect_tcp.complete return_value=<httpcore._backends.sync.SyncStream object at 0x0000023AD04D6F50>\n",
      "connect_tcp.complete return_value=<httpcore._backends.sync.SyncStream object at 0x0000023AD04D6F50>\n",
      "DEBUG:httpcore.connection:start_tls.started ssl_context=<ssl.SSLContext object at 0x0000023AD04E40C0> server_hostname='api.openai.com' timeout=60.0\n",
      "start_tls.started ssl_context=<ssl.SSLContext object at 0x0000023AD04E40C0> server_hostname='api.openai.com' timeout=60.0\n",
      "DEBUG:httpcore.connection:start_tls.complete return_value=<httpcore._backends.sync.SyncStream object at 0x0000023AD04D6EF0>\n",
      "start_tls.complete return_value=<httpcore._backends.sync.SyncStream object at 0x0000023AD04D6EF0>\n",
      "DEBUG:httpcore.http11:send_request_headers.started request=<Request [b'POST']>\n",
      "send_request_headers.started request=<Request [b'POST']>\n",
      "DEBUG:httpcore.http11:send_request_headers.complete\n",
      "send_request_headers.complete\n",
      "DEBUG:httpcore.http11:send_request_body.started request=<Request [b'POST']>\n",
      "send_request_body.started request=<Request [b'POST']>\n",
      "DEBUG:httpcore.http11:send_request_body.complete\n",
      "send_request_body.complete\n",
      "DEBUG:httpcore.http11:receive_response_headers.started request=<Request [b'POST']>\n",
      "receive_response_headers.started request=<Request [b'POST']>\n",
      "DEBUG:httpcore.http11:receive_response_headers.complete return_value=(b'HTTP/1.1', 200, b'OK', [(b'Date', b'Thu, 09 May 2024 02:54:46 GMT'), (b'Content-Type', b'application/json'), (b'Transfer-Encoding', b'chunked'), (b'Connection', b'keep-alive'), (b'access-control-allow-origin', b'*'), (b'openai-model', b'text-embedding-ada-002'), (b'openai-organization', b'user-esvpmkmjfqpununnu5bjgol5'), (b'openai-processing-ms', b'150'), (b'openai-version', b'2020-10-01'), (b'strict-transport-security', b'max-age=15724800; includeSubDomains'), (b'x-ratelimit-limit-requests', b'3000'), (b'x-ratelimit-limit-tokens', b'1000000'), (b'x-ratelimit-remaining-requests', b'2999'), (b'x-ratelimit-remaining-tokens', b'999988'), (b'x-ratelimit-reset-requests', b'20ms'), (b'x-ratelimit-reset-tokens', b'0s'), (b'x-request-id', b'req_0c8d24f814acf13fe31f84f1b209d086'), (b'CF-Cache-Status', b'DYNAMIC'), (b'Server', b'cloudflare'), (b'CF-RAY', b'880e6823dbb54666-DFW'), (b'Content-Encoding', b'br'), (b'alt-svc', b'h3=\":443\"; ma=86400')])\n",
      "receive_response_headers.complete return_value=(b'HTTP/1.1', 200, b'OK', [(b'Date', b'Thu, 09 May 2024 02:54:46 GMT'), (b'Content-Type', b'application/json'), (b'Transfer-Encoding', b'chunked'), (b'Connection', b'keep-alive'), (b'access-control-allow-origin', b'*'), (b'openai-model', b'text-embedding-ada-002'), (b'openai-organization', b'user-esvpmkmjfqpununnu5bjgol5'), (b'openai-processing-ms', b'150'), (b'openai-version', b'2020-10-01'), (b'strict-transport-security', b'max-age=15724800; includeSubDomains'), (b'x-ratelimit-limit-requests', b'3000'), (b'x-ratelimit-limit-tokens', b'1000000'), (b'x-ratelimit-remaining-requests', b'2999'), (b'x-ratelimit-remaining-tokens', b'999988'), (b'x-ratelimit-reset-requests', b'20ms'), (b'x-ratelimit-reset-tokens', b'0s'), (b'x-request-id', b'req_0c8d24f814acf13fe31f84f1b209d086'), (b'CF-Cache-Status', b'DYNAMIC'), (b'Server', b'cloudflare'), (b'CF-RAY', b'880e6823dbb54666-DFW'), (b'Content-Encoding', b'br'), (b'alt-svc', b'h3=\":443\"; ma=86400')])\n",
      "INFO:httpx:HTTP Request: POST https://api.openai.com/v1/embeddings \"HTTP/1.1 200 OK\"\n",
      "HTTP Request: POST https://api.openai.com/v1/embeddings \"HTTP/1.1 200 OK\"\n",
      "DEBUG:httpcore.http11:receive_response_body.started request=<Request [b'POST']>\n",
      "receive_response_body.started request=<Request [b'POST']>\n",
      "DEBUG:httpcore.http11:receive_response_body.complete\n",
      "receive_response_body.complete\n",
      "DEBUG:httpcore.http11:response_closed.started\n",
      "response_closed.started\n",
      "DEBUG:httpcore.http11:response_closed.complete\n",
      "response_closed.complete\n",
      "DEBUG:openai._base_client:HTTP Request: POST https://api.openai.com/v1/embeddings \"200 OK\"\n",
      "HTTP Request: POST https://api.openai.com/v1/embeddings \"200 OK\"\n",
      "DEBUG:llama_index.core.indices.utils:> Top 1 nodes:\n",
      "> [Node dfda5330-bbb4-42f7-82a4-c487706b4848] [Similarity score:             0.776766] 2 Cocoa Touch  \n",
      "ctouch@gmail.com  | 844-555-0990  \n",
      "OBJECTIVE:  \n",
      "An internship or research opportu...\n",
      "> Top 1 nodes:\n",
      "> [Node dfda5330-bbb4-42f7-82a4-c487706b4848] [Similarity score:             0.776766] 2 Cocoa Touch  \n",
      "ctouch@gmail.com  | 844-555-0990  \n",
      "OBJECTIVE:  \n",
      "An internship or research opportu...\n",
      "DEBUG:openai._base_client:Request options: {'method': 'post', 'url': '/chat/completions', 'files': None, 'json_data': {'messages': [{'role': 'system', 'content': \"You are an expert Q&A system that is trusted around the world.\\nAlways answer the query using the provided context information, and not prior knowledge.\\nSome rules to follow:\\n1. Never directly reference the given context in your answer.\\n2. Avoid statements like 'Based on the context, ...' or 'The context information ...' or anything along those lines.\"}, {'role': 'user', 'content': 'Context information is below.\\n---------------------\\npage_label: 1\\nfile_path: C:\\\\Users\\\\Madhumita\\\\Documents\\\\Tina Docs\\\\UT BC\\\\Proj 4\\\\MY OWN EXPERIMENTS\\\\data\\\\sample-resumes_one.pdf\\n\\n2 Cocoa Touch  \\nctouch@gmail.com  | 844-555-0990  \\nOBJECTIVE:  \\nAn internship or research opportunity that will allow me to utilize my problem solving skills and attention to \\ndetail  to further develop my abilities in the field of computer science.  \\n EDUCATION:  \\nCarnegie Mellon University , Pittsburgh PA  \\nBachelor of Science in Computer Science, May 2018  \\nWalnut Hills High School , Cincinnati, OH  \\nDiploma with Honors , June 2014  GPA 4.0/4.0  \\n COURSEWORK:  \\nAnalysis  I and II; Introduction to Programming; Concepts of Mathematics; Principles of Imperative \\nProgramming, Great Theoretical Ideas in Computer Science  \\n PROJECT:  \\nProgramming Homework: An Adventure Game ( Fall 2014 ) \\n*Created a text -based adve nture game with a graphical interface in Python.  \\n EXPERIENCE:  \\n*Intern for Dr. Richard M. Males, Cincinnati OH (November 2013 -January 2014):  \\nAssisted in the reformatting of Excel files for data analysis of expert reviews of flood rates and how  they \\nimpact different building structures.  \\n*Tutor for middle school students  with East End Youth Projects (Fall 2014 -Present)  \\n \\nTECHNICAL SKILLS:  \\nProficient in Python.  \\n ACTIVITIES:  \\nCMU KGB, Fall 2014 -Present.  \\nVarsity High School Cross Country, Fall  2012- Fall 2013 (Team Captain, 2013).  \\nVarsity High School Track, Spring 2012 -Spring 2014  \\nJunior Engineering Technical Society, 2012 -2014.  \\n \\nHONORS:  \\nCarnegie Scholarship, Fall 2014 -Present.  \\nNational Merit Scholar, 2014  \\nNational AP Scholar Award, 2004  \\nCum Lau de Society, 2014\\n---------------------\\nGiven the context information and not prior knowledge, answer the query.\\nQuery: List the projects completed by the Applicant.\\nAnswer: '}], 'model': 'gpt-3.5-turbo', 'stream': False, 'temperature': 0.1}}\n",
      "Request options: {'method': 'post', 'url': '/chat/completions', 'files': None, 'json_data': {'messages': [{'role': 'system', 'content': \"You are an expert Q&A system that is trusted around the world.\\nAlways answer the query using the provided context information, and not prior knowledge.\\nSome rules to follow:\\n1. Never directly reference the given context in your answer.\\n2. Avoid statements like 'Based on the context, ...' or 'The context information ...' or anything along those lines.\"}, {'role': 'user', 'content': 'Context information is below.\\n---------------------\\npage_label: 1\\nfile_path: C:\\\\Users\\\\Madhumita\\\\Documents\\\\Tina Docs\\\\UT BC\\\\Proj 4\\\\MY OWN EXPERIMENTS\\\\data\\\\sample-resumes_one.pdf\\n\\n2 Cocoa Touch  \\nctouch@gmail.com  | 844-555-0990  \\nOBJECTIVE:  \\nAn internship or research opportunity that will allow me to utilize my problem solving skills and attention to \\ndetail  to further develop my abilities in the field of computer science.  \\n EDUCATION:  \\nCarnegie Mellon University , Pittsburgh PA  \\nBachelor of Science in Computer Science, May 2018  \\nWalnut Hills High School , Cincinnati, OH  \\nDiploma with Honors , June 2014  GPA 4.0/4.0  \\n COURSEWORK:  \\nAnalysis  I and II; Introduction to Programming; Concepts of Mathematics; Principles of Imperative \\nProgramming, Great Theoretical Ideas in Computer Science  \\n PROJECT:  \\nProgramming Homework: An Adventure Game ( Fall 2014 ) \\n*Created a text -based adve nture game with a graphical interface in Python.  \\n EXPERIENCE:  \\n*Intern for Dr. Richard M. Males, Cincinnati OH (November 2013 -January 2014):  \\nAssisted in the reformatting of Excel files for data analysis of expert reviews of flood rates and how  they \\nimpact different building structures.  \\n*Tutor for middle school students  with East End Youth Projects (Fall 2014 -Present)  \\n \\nTECHNICAL SKILLS:  \\nProficient in Python.  \\n ACTIVITIES:  \\nCMU KGB, Fall 2014 -Present.  \\nVarsity High School Cross Country, Fall  2012- Fall 2013 (Team Captain, 2013).  \\nVarsity High School Track, Spring 2012 -Spring 2014  \\nJunior Engineering Technical Society, 2012 -2014.  \\n \\nHONORS:  \\nCarnegie Scholarship, Fall 2014 -Present.  \\nNational Merit Scholar, 2014  \\nNational AP Scholar Award, 2004  \\nCum Lau de Society, 2014\\n---------------------\\nGiven the context information and not prior knowledge, answer the query.\\nQuery: List the projects completed by the Applicant.\\nAnswer: '}], 'model': 'gpt-3.5-turbo', 'stream': False, 'temperature': 0.1}}\n"
     ]
    },
    {
     "name": "stdout",
     "output_type": "stream",
     "text": [
      "DEBUG:httpcore.connection:close.started\n",
      "close.started\n",
      "DEBUG:httpcore.connection:close.complete\n",
      "close.complete\n",
      "DEBUG:httpcore.connection:connect_tcp.started host='api.openai.com' port=443 local_address=None timeout=60.0 socket_options=None\n",
      "connect_tcp.started host='api.openai.com' port=443 local_address=None timeout=60.0 socket_options=None\n",
      "DEBUG:httpcore.connection:connect_tcp.complete return_value=<httpcore._backends.sync.SyncStream object at 0x0000023AD06F9DE0>\n",
      "connect_tcp.complete return_value=<httpcore._backends.sync.SyncStream object at 0x0000023AD06F9DE0>\n",
      "DEBUG:httpcore.connection:start_tls.started ssl_context=<ssl.SSLContext object at 0x0000023AD0633240> server_hostname='api.openai.com' timeout=60.0\n",
      "start_tls.started ssl_context=<ssl.SSLContext object at 0x0000023AD0633240> server_hostname='api.openai.com' timeout=60.0\n",
      "DEBUG:httpcore.connection:start_tls.complete return_value=<httpcore._backends.sync.SyncStream object at 0x0000023AD06F9CF0>\n",
      "start_tls.complete return_value=<httpcore._backends.sync.SyncStream object at 0x0000023AD06F9CF0>\n",
      "DEBUG:httpcore.http11:send_request_headers.started request=<Request [b'POST']>\n",
      "send_request_headers.started request=<Request [b'POST']>\n",
      "DEBUG:httpcore.http11:send_request_headers.complete\n",
      "send_request_headers.complete\n",
      "DEBUG:httpcore.http11:send_request_body.started request=<Request [b'POST']>\n",
      "send_request_body.started request=<Request [b'POST']>\n",
      "DEBUG:httpcore.http11:send_request_body.complete\n",
      "send_request_body.complete\n",
      "DEBUG:httpcore.http11:receive_response_headers.started request=<Request [b'POST']>\n",
      "receive_response_headers.started request=<Request [b'POST']>\n",
      "DEBUG:httpcore.http11:receive_response_headers.complete return_value=(b'HTTP/1.1', 200, b'OK', [(b'Date', b'Thu, 09 May 2024 02:54:47 GMT'), (b'Content-Type', b'application/json'), (b'Transfer-Encoding', b'chunked'), (b'Connection', b'keep-alive'), (b'openai-organization', b'user-esvpmkmjfqpununnu5bjgol5'), (b'openai-processing-ms', b'437'), (b'openai-version', b'2020-10-01'), (b'strict-transport-security', b'max-age=15724800; includeSubDomains'), (b'x-ratelimit-limit-requests', b'10000'), (b'x-ratelimit-limit-tokens', b'60000'), (b'x-ratelimit-remaining-requests', b'9998'), (b'x-ratelimit-remaining-tokens', b'59427'), (b'x-ratelimit-reset-requests', b'13.1s'), (b'x-ratelimit-reset-tokens', b'573ms'), (b'x-request-id', b'req_8d37f46490e77fc693e8ced52e0262e1'), (b'CF-Cache-Status', b'DYNAMIC'), (b'Server', b'cloudflare'), (b'CF-RAY', b'880e68262fd10b71-DFW'), (b'Content-Encoding', b'br'), (b'alt-svc', b'h3=\":443\"; ma=86400')])\n",
      "receive_response_headers.complete return_value=(b'HTTP/1.1', 200, b'OK', [(b'Date', b'Thu, 09 May 2024 02:54:47 GMT'), (b'Content-Type', b'application/json'), (b'Transfer-Encoding', b'chunked'), (b'Connection', b'keep-alive'), (b'openai-organization', b'user-esvpmkmjfqpununnu5bjgol5'), (b'openai-processing-ms', b'437'), (b'openai-version', b'2020-10-01'), (b'strict-transport-security', b'max-age=15724800; includeSubDomains'), (b'x-ratelimit-limit-requests', b'10000'), (b'x-ratelimit-limit-tokens', b'60000'), (b'x-ratelimit-remaining-requests', b'9998'), (b'x-ratelimit-remaining-tokens', b'59427'), (b'x-ratelimit-reset-requests', b'13.1s'), (b'x-ratelimit-reset-tokens', b'573ms'), (b'x-request-id', b'req_8d37f46490e77fc693e8ced52e0262e1'), (b'CF-Cache-Status', b'DYNAMIC'), (b'Server', b'cloudflare'), (b'CF-RAY', b'880e68262fd10b71-DFW'), (b'Content-Encoding', b'br'), (b'alt-svc', b'h3=\":443\"; ma=86400')])\n",
      "INFO:httpx:HTTP Request: POST https://api.openai.com/v1/chat/completions \"HTTP/1.1 200 OK\"\n",
      "HTTP Request: POST https://api.openai.com/v1/chat/completions \"HTTP/1.1 200 OK\"\n",
      "DEBUG:httpcore.http11:receive_response_body.started request=<Request [b'POST']>\n",
      "receive_response_body.started request=<Request [b'POST']>\n",
      "DEBUG:httpcore.http11:receive_response_body.complete\n",
      "receive_response_body.complete\n",
      "DEBUG:httpcore.http11:response_closed.started\n",
      "response_closed.started\n",
      "DEBUG:httpcore.http11:response_closed.complete\n",
      "response_closed.complete\n",
      "DEBUG:openai._base_client:HTTP Request: POST https://api.openai.com/v1/chat/completions \"200 OK\"\n",
      "HTTP Request: POST https://api.openai.com/v1/chat/completions \"200 OK\"\n"
     ]
    },
    {
     "data": {
      "text/plain": [
       "'The projects completed by the Applicant are:\\n- Programming Homework: An Adventure Game (Fall 2014)'"
      ]
     },
     "execution_count": 14,
     "metadata": {},
     "output_type": "execute_result"
    }
   ],
   "source": [
    "response_summary = query_engine.query(\"List the projects completed by the Applicant.\")\n",
    "response_summary.response"
   ]
  },
  {
   "cell_type": "code",
   "execution_count": 15,
   "id": "f240b728",
   "metadata": {},
   "outputs": [
    {
     "data": {
      "text/plain": [
       "'The projects completed by the Applicant are:\\n- Programming Homework: An Adventure Game (Fall 2014)'"
      ]
     },
     "execution_count": 15,
     "metadata": {},
     "output_type": "execute_result"
    }
   ],
   "source": [
    "response_summary.response"
   ]
  },
  {
   "cell_type": "markdown",
   "id": "1b1bed4f",
   "metadata": {},
   "source": [
    "# Summarization\n",
    "\n",
    "A summarization query requires the LLM to iterate through many if not most documents in order to synthesize an answer. "
   ]
  },
  {
   "cell_type": "code",
   "execution_count": 16,
   "id": "ffb29b54",
   "metadata": {},
   "outputs": [],
   "source": [
    "# # Uncomment if you want to temporarily disable logger\n",
    "logger = logging.getLogger()\n",
    "logger.disabled = True"
   ]
  },
  {
   "cell_type": "code",
   "execution_count": 17,
   "id": "76e65885",
   "metadata": {},
   "outputs": [
    {
     "name": "stdout",
     "output_type": "stream",
     "text": [
      "DEBUG:llama_index.core.node_parser.node_utils:> Adding chunk: 2 Cocoa Touch  \n",
      "ctouch@gmail.com  | 844-555-099...\n",
      "> Adding chunk: 2 Cocoa Touch  \n",
      "ctouch@gmail.com  | 844-555-099...\n"
     ]
    }
   ],
   "source": [
    "# Vector Store (Embeddings)\n",
    "from llama_index.core import SummaryIndex\n",
    "\n",
    "# Index original documents for summary queries\n",
    "summary_index = SummaryIndex.from_documents(documents)"
   ]
  },
  {
   "cell_type": "code",
   "execution_count": 18,
   "id": "ab5e8081",
   "metadata": {},
   "outputs": [],
   "source": [
    "summary_query_engine = summary_index.as_query_engine(response_mode=\"tree_summarize\")"
   ]
  },
  {
   "cell_type": "code",
   "execution_count": 19,
   "id": "9d258765",
   "metadata": {},
   "outputs": [
    {
     "name": "stdout",
     "output_type": "stream",
     "text": [
      "DEBUG:openai._base_client:Request options: {'method': 'post', 'url': '/chat/completions', 'files': None, 'json_data': {'messages': [{'role': 'system', 'content': \"You are an expert Q&A system that is trusted around the world.\\nAlways answer the query using the provided context information, and not prior knowledge.\\nSome rules to follow:\\n1. Never directly reference the given context in your answer.\\n2. Avoid statements like 'Based on the context, ...' or 'The context information ...' or anything along those lines.\"}, {'role': 'user', 'content': 'Context information from multiple sources is below.\\n---------------------\\npage_label: 1\\nfile_path: C:\\\\Users\\\\Madhumita\\\\Documents\\\\Tina Docs\\\\UT BC\\\\Proj 4\\\\MY OWN EXPERIMENTS\\\\data\\\\sample-resumes_one.pdf\\n\\n2 Cocoa Touch  \\nctouch@gmail.com  | 844-555-0990  \\nOBJECTIVE:  \\nAn internship or research opportunity that will allow me to utilize my problem solving skills and attention to \\ndetail  to further develop my abilities in the field of computer science.  \\n EDUCATION:  \\nCarnegie Mellon University , Pittsburgh PA  \\nBachelor of Science in Computer Science, May 2018  \\nWalnut Hills High School , Cincinnati, OH  \\nDiploma with Honors , June 2014  GPA 4.0/4.0  \\n COURSEWORK:  \\nAnalysis  I and II; Introduction to Programming; Concepts of Mathematics; Principles of Imperative \\nProgramming, Great Theoretical Ideas in Computer Science  \\n PROJECT:  \\nProgramming Homework: An Adventure Game ( Fall 2014 ) \\n*Created a text -based adve nture game with a graphical interface in Python.  \\n EXPERIENCE:  \\n*Intern for Dr. Richard M. Males, Cincinnati OH (November 2013 -January 2014):  \\nAssisted in the reformatting of Excel files for data analysis of expert reviews of flood rates and how  they \\nimpact different building structures.  \\n*Tutor for middle school students  with East End Youth Projects (Fall 2014 -Present)  \\n \\nTECHNICAL SKILLS:  \\nProficient in Python.  \\n ACTIVITIES:  \\nCMU KGB, Fall 2014 -Present.  \\nVarsity High School Cross Country, Fall  2012- Fall 2013 (Team Captain, 2013).  \\nVarsity High School Track, Spring 2012 -Spring 2014  \\nJunior Engineering Technical Society, 2012 -2014.  \\n \\nHONORS:  \\nCarnegie Scholarship, Fall 2014 -Present.  \\nNational Merit Scholar, 2014  \\nNational AP Scholar Award, 2004  \\nCum Lau de Society, 2014\\n---------------------\\nGiven the information from multiple sources and not prior knowledge, answer the query.\\nQuery: Summarize this document\\nAnswer: '}], 'model': 'gpt-3.5-turbo', 'stream': False, 'temperature': 0.1}}\n",
      "Request options: {'method': 'post', 'url': '/chat/completions', 'files': None, 'json_data': {'messages': [{'role': 'system', 'content': \"You are an expert Q&A system that is trusted around the world.\\nAlways answer the query using the provided context information, and not prior knowledge.\\nSome rules to follow:\\n1. Never directly reference the given context in your answer.\\n2. Avoid statements like 'Based on the context, ...' or 'The context information ...' or anything along those lines.\"}, {'role': 'user', 'content': 'Context information from multiple sources is below.\\n---------------------\\npage_label: 1\\nfile_path: C:\\\\Users\\\\Madhumita\\\\Documents\\\\Tina Docs\\\\UT BC\\\\Proj 4\\\\MY OWN EXPERIMENTS\\\\data\\\\sample-resumes_one.pdf\\n\\n2 Cocoa Touch  \\nctouch@gmail.com  | 844-555-0990  \\nOBJECTIVE:  \\nAn internship or research opportunity that will allow me to utilize my problem solving skills and attention to \\ndetail  to further develop my abilities in the field of computer science.  \\n EDUCATION:  \\nCarnegie Mellon University , Pittsburgh PA  \\nBachelor of Science in Computer Science, May 2018  \\nWalnut Hills High School , Cincinnati, OH  \\nDiploma with Honors , June 2014  GPA 4.0/4.0  \\n COURSEWORK:  \\nAnalysis  I and II; Introduction to Programming; Concepts of Mathematics; Principles of Imperative \\nProgramming, Great Theoretical Ideas in Computer Science  \\n PROJECT:  \\nProgramming Homework: An Adventure Game ( Fall 2014 ) \\n*Created a text -based adve nture game with a graphical interface in Python.  \\n EXPERIENCE:  \\n*Intern for Dr. Richard M. Males, Cincinnati OH (November 2013 -January 2014):  \\nAssisted in the reformatting of Excel files for data analysis of expert reviews of flood rates and how  they \\nimpact different building structures.  \\n*Tutor for middle school students  with East End Youth Projects (Fall 2014 -Present)  \\n \\nTECHNICAL SKILLS:  \\nProficient in Python.  \\n ACTIVITIES:  \\nCMU KGB, Fall 2014 -Present.  \\nVarsity High School Cross Country, Fall  2012- Fall 2013 (Team Captain, 2013).  \\nVarsity High School Track, Spring 2012 -Spring 2014  \\nJunior Engineering Technical Society, 2012 -2014.  \\n \\nHONORS:  \\nCarnegie Scholarship, Fall 2014 -Present.  \\nNational Merit Scholar, 2014  \\nNational AP Scholar Award, 2004  \\nCum Lau de Society, 2014\\n---------------------\\nGiven the information from multiple sources and not prior knowledge, answer the query.\\nQuery: Summarize this document\\nAnswer: '}], 'model': 'gpt-3.5-turbo', 'stream': False, 'temperature': 0.1}}\n",
      "DEBUG:httpcore.connection:close.started\n",
      "close.started\n",
      "DEBUG:httpcore.connection:close.complete\n",
      "close.complete\n",
      "DEBUG:httpcore.connection:connect_tcp.started host='api.openai.com' port=443 local_address=None timeout=60.0 socket_options=None\n",
      "connect_tcp.started host='api.openai.com' port=443 local_address=None timeout=60.0 socket_options=None\n",
      "DEBUG:httpcore.connection:connect_tcp.complete return_value=<httpcore._backends.sync.SyncStream object at 0x0000023AD06DA830>\n",
      "connect_tcp.complete return_value=<httpcore._backends.sync.SyncStream object at 0x0000023AD06DA830>\n",
      "DEBUG:httpcore.connection:start_tls.started ssl_context=<ssl.SSLContext object at 0x0000023AD0633240> server_hostname='api.openai.com' timeout=60.0\n",
      "start_tls.started ssl_context=<ssl.SSLContext object at 0x0000023AD0633240> server_hostname='api.openai.com' timeout=60.0\n",
      "DEBUG:httpcore.connection:start_tls.complete return_value=<httpcore._backends.sync.SyncStream object at 0x0000023AD06DA620>\n",
      "start_tls.complete return_value=<httpcore._backends.sync.SyncStream object at 0x0000023AD06DA620>\n",
      "DEBUG:httpcore.http11:send_request_headers.started request=<Request [b'POST']>\n",
      "send_request_headers.started request=<Request [b'POST']>\n",
      "DEBUG:httpcore.http11:send_request_headers.complete\n",
      "send_request_headers.complete\n",
      "DEBUG:httpcore.http11:send_request_body.started request=<Request [b'POST']>\n",
      "send_request_body.started request=<Request [b'POST']>\n",
      "DEBUG:httpcore.http11:send_request_body.complete\n",
      "send_request_body.complete\n",
      "DEBUG:httpcore.http11:receive_response_headers.started request=<Request [b'POST']>\n",
      "receive_response_headers.started request=<Request [b'POST']>\n",
      "DEBUG:httpcore.http11:receive_response_headers.complete return_value=(b'HTTP/1.1', 200, b'OK', [(b'Date', b'Thu, 09 May 2024 02:55:06 GMT'), (b'Content-Type', b'application/json'), (b'Transfer-Encoding', b'chunked'), (b'Connection', b'keep-alive'), (b'openai-organization', b'user-esvpmkmjfqpununnu5bjgol5'), (b'openai-processing-ms', b'1714'), (b'openai-version', b'2020-10-01'), (b'strict-transport-security', b'max-age=15724800; includeSubDomains'), (b'x-ratelimit-limit-requests', b'10000'), (b'x-ratelimit-limit-tokens', b'60000'), (b'x-ratelimit-remaining-requests', b'9999'), (b'x-ratelimit-remaining-tokens', b'59424'), (b'x-ratelimit-reset-requests', b'8.64s'), (b'x-ratelimit-reset-tokens', b'576ms'), (b'x-request-id', b'req_a24f4df0dcab95d112bfaa12f9f797d3'), (b'CF-Cache-Status', b'DYNAMIC'), (b'Server', b'cloudflare'), (b'CF-RAY', b'880e6896cf0d467d-DFW'), (b'Content-Encoding', b'br'), (b'alt-svc', b'h3=\":443\"; ma=86400')])\n",
      "receive_response_headers.complete return_value=(b'HTTP/1.1', 200, b'OK', [(b'Date', b'Thu, 09 May 2024 02:55:06 GMT'), (b'Content-Type', b'application/json'), (b'Transfer-Encoding', b'chunked'), (b'Connection', b'keep-alive'), (b'openai-organization', b'user-esvpmkmjfqpununnu5bjgol5'), (b'openai-processing-ms', b'1714'), (b'openai-version', b'2020-10-01'), (b'strict-transport-security', b'max-age=15724800; includeSubDomains'), (b'x-ratelimit-limit-requests', b'10000'), (b'x-ratelimit-limit-tokens', b'60000'), (b'x-ratelimit-remaining-requests', b'9999'), (b'x-ratelimit-remaining-tokens', b'59424'), (b'x-ratelimit-reset-requests', b'8.64s'), (b'x-ratelimit-reset-tokens', b'576ms'), (b'x-request-id', b'req_a24f4df0dcab95d112bfaa12f9f797d3'), (b'CF-Cache-Status', b'DYNAMIC'), (b'Server', b'cloudflare'), (b'CF-RAY', b'880e6896cf0d467d-DFW'), (b'Content-Encoding', b'br'), (b'alt-svc', b'h3=\":443\"; ma=86400')])\n"
     ]
    },
    {
     "name": "stdout",
     "output_type": "stream",
     "text": [
      "INFO:httpx:HTTP Request: POST https://api.openai.com/v1/chat/completions \"HTTP/1.1 200 OK\"\n",
      "HTTP Request: POST https://api.openai.com/v1/chat/completions \"HTTP/1.1 200 OK\"\n",
      "DEBUG:httpcore.http11:receive_response_body.started request=<Request [b'POST']>\n",
      "receive_response_body.started request=<Request [b'POST']>\n",
      "DEBUG:httpcore.http11:receive_response_body.complete\n",
      "receive_response_body.complete\n",
      "DEBUG:httpcore.http11:response_closed.started\n",
      "response_closed.started\n",
      "DEBUG:httpcore.http11:response_closed.complete\n",
      "response_closed.complete\n",
      "DEBUG:openai._base_client:HTTP Request: POST https://api.openai.com/v1/chat/completions \"200 OK\"\n",
      "HTTP Request: POST https://api.openai.com/v1/chat/completions \"200 OK\"\n"
     ]
    },
    {
     "data": {
      "text/plain": [
       "Response(response='The document is a resume of a candidate with a Bachelor of Science in Computer Science from Carnegie Mellon University. The candidate has experience in programming, including creating a text-based adventure game in Python. They have worked as an intern assisting in data analysis and as a tutor for middle school students. The candidate is proficient in Python and has been involved in various activities and received honors during their academic career.', source_nodes=[NodeWithScore(node=TextNode(id_='9d703c85-0886-43e6-ae5e-45fb9a9b5c1c', embedding=None, metadata={'page_label': '1', 'file_name': 'sample-resumes_one.pdf', 'file_path': 'C:\\\\Users\\\\Madhumita\\\\Documents\\\\Tina Docs\\\\UT BC\\\\Proj 4\\\\MY OWN EXPERIMENTS\\\\data\\\\sample-resumes_one.pdf', 'file_type': 'application/pdf', 'file_size': 67244, 'creation_date': '2024-05-02', 'last_modified_date': '2024-05-02'}, excluded_embed_metadata_keys=['file_name', 'file_type', 'file_size', 'creation_date', 'last_modified_date', 'last_accessed_date'], excluded_llm_metadata_keys=['file_name', 'file_type', 'file_size', 'creation_date', 'last_modified_date', 'last_accessed_date'], relationships={<NodeRelationship.SOURCE: '1'>: RelatedNodeInfo(node_id='880b90d1-3f56-4a07-a4b9-5af156e47eae', node_type=<ObjectType.DOCUMENT: '4'>, metadata={'page_label': '1', 'file_name': 'sample-resumes_one.pdf', 'file_path': 'C:\\\\Users\\\\Madhumita\\\\Documents\\\\Tina Docs\\\\UT BC\\\\Proj 4\\\\MY OWN EXPERIMENTS\\\\data\\\\sample-resumes_one.pdf', 'file_type': 'application/pdf', 'file_size': 67244, 'creation_date': '2024-05-02', 'last_modified_date': '2024-05-02'}, hash='0814b2f3ce18779141451556e794237202db4518943615b57a880d040679c78d')}, text='2 Cocoa Touch  \\nctouch@gmail.com  | 844-555-0990  \\nOBJECTIVE:  \\nAn internship or research opportunity that will allow me to utilize my problem solving skills and attention to \\ndetail  to further develop my abilities in the field of computer science.  \\n EDUCATION:  \\nCarnegie Mellon University , Pittsburgh PA  \\nBachelor of Science in Computer Science, May 2018  \\nWalnut Hills High School , Cincinnati, OH  \\nDiploma with Honors , June 2014  GPA 4.0/4.0  \\n COURSEWORK:  \\nAnalysis  I and II; Introduction to Programming; Concepts of Mathematics; Principles of Imperative \\nProgramming, Great Theoretical Ideas in Computer Science  \\n PROJECT:  \\nProgramming Homework: An Adventure Game ( Fall 2014 ) \\n*Created a text -based adve nture game with a graphical interface in Python.  \\n EXPERIENCE:  \\n*Intern for Dr. Richard M. Males, Cincinnati OH (November 2013 -January 2014):  \\nAssisted in the reformatting of Excel files for data analysis of expert reviews of flood rates and how  they \\nimpact different building structures.  \\n*Tutor for middle school students  with East End Youth Projects (Fall 2014 -Present)  \\n \\nTECHNICAL SKILLS:  \\nProficient in Python.  \\n ACTIVITIES:  \\nCMU KGB, Fall 2014 -Present.  \\nVarsity High School Cross Country, Fall  2012- Fall 2013 (Team Captain, 2013).  \\nVarsity High School Track, Spring 2012 -Spring 2014  \\nJunior Engineering Technical Society, 2012 -2014.  \\n \\nHONORS:  \\nCarnegie Scholarship, Fall 2014 -Present.  \\nNational Merit Scholar, 2014  \\nNational AP Scholar Award, 2004  \\nCum Lau de Society, 2014', start_char_idx=0, end_char_idx=1531, text_template='{metadata_str}\\n\\n{content}', metadata_template='{key}: {value}', metadata_seperator='\\n'), score=None)], metadata={'9d703c85-0886-43e6-ae5e-45fb9a9b5c1c': {'page_label': '1', 'file_name': 'sample-resumes_one.pdf', 'file_path': 'C:\\\\Users\\\\Madhumita\\\\Documents\\\\Tina Docs\\\\UT BC\\\\Proj 4\\\\MY OWN EXPERIMENTS\\\\data\\\\sample-resumes_one.pdf', 'file_type': 'application/pdf', 'file_size': 67244, 'creation_date': '2024-05-02', 'last_modified_date': '2024-05-02'}})"
      ]
     },
     "execution_count": 19,
     "metadata": {},
     "output_type": "execute_result"
    }
   ],
   "source": [
    "summary_response = summary_query_engine.query(\"Summarize this document\")\n",
    "summary_response"
   ]
  },
  {
   "cell_type": "code",
   "execution_count": 20,
   "id": "920860a0",
   "metadata": {},
   "outputs": [
    {
     "data": {
      "text/plain": [
       "Response(response=Response(response='The document is a resume of a candidate with a Bachelor of Science in Computer Science from Carnegie Mellon University. The candidate has experience in programming, including creating a text-based adventure game in Python. They have worked as an intern assisting in data analysis and as a tutor for middle school students. The candidate is proficient in Python and has been involved in various activities and received honors during their academic career.', source_nodes=[NodeWithScore(node=TextNode(id_='9d703c85-0886-43e6-ae5e-45fb9a9b5c1c', embedding=None, metadata={'page_label': '1', 'file_name': 'sample-resumes_one.pdf', 'file_path': 'C:\\\\Users\\\\Madhumita\\\\Documents\\\\Tina Docs\\\\UT BC\\\\Proj 4\\\\MY OWN EXPERIMENTS\\\\data\\\\sample-resumes_one.pdf', 'file_type': 'application/pdf', 'file_size': 67244, 'creation_date': '2024-05-02', 'last_modified_date': '2024-05-02'}, excluded_embed_metadata_keys=['file_name', 'file_type', 'file_size', 'creation_date', 'last_modified_date', 'last_accessed_date'], excluded_llm_metadata_keys=['file_name', 'file_type', 'file_size', 'creation_date', 'last_modified_date', 'last_accessed_date'], relationships={<NodeRelationship.SOURCE: '1'>: RelatedNodeInfo(node_id='880b90d1-3f56-4a07-a4b9-5af156e47eae', node_type=<ObjectType.DOCUMENT: '4'>, metadata={'page_label': '1', 'file_name': 'sample-resumes_one.pdf', 'file_path': 'C:\\\\Users\\\\Madhumita\\\\Documents\\\\Tina Docs\\\\UT BC\\\\Proj 4\\\\MY OWN EXPERIMENTS\\\\data\\\\sample-resumes_one.pdf', 'file_type': 'application/pdf', 'file_size': 67244, 'creation_date': '2024-05-02', 'last_modified_date': '2024-05-02'}, hash='0814b2f3ce18779141451556e794237202db4518943615b57a880d040679c78d')}, text='2 Cocoa Touch  \\nctouch@gmail.com  | 844-555-0990  \\nOBJECTIVE:  \\nAn internship or research opportunity that will allow me to utilize my problem solving skills and attention to \\ndetail  to further develop my abilities in the field of computer science.  \\n EDUCATION:  \\nCarnegie Mellon University , Pittsburgh PA  \\nBachelor of Science in Computer Science, May 2018  \\nWalnut Hills High School , Cincinnati, OH  \\nDiploma with Honors , June 2014  GPA 4.0/4.0  \\n COURSEWORK:  \\nAnalysis  I and II; Introduction to Programming; Concepts of Mathematics; Principles of Imperative \\nProgramming, Great Theoretical Ideas in Computer Science  \\n PROJECT:  \\nProgramming Homework: An Adventure Game ( Fall 2014 ) \\n*Created a text -based adve nture game with a graphical interface in Python.  \\n EXPERIENCE:  \\n*Intern for Dr. Richard M. Males, Cincinnati OH (November 2013 -January 2014):  \\nAssisted in the reformatting of Excel files for data analysis of expert reviews of flood rates and how  they \\nimpact different building structures.  \\n*Tutor for middle school students  with East End Youth Projects (Fall 2014 -Present)  \\n \\nTECHNICAL SKILLS:  \\nProficient in Python.  \\n ACTIVITIES:  \\nCMU KGB, Fall 2014 -Present.  \\nVarsity High School Cross Country, Fall  2012- Fall 2013 (Team Captain, 2013).  \\nVarsity High School Track, Spring 2012 -Spring 2014  \\nJunior Engineering Technical Society, 2012 -2014.  \\n \\nHONORS:  \\nCarnegie Scholarship, Fall 2014 -Present.  \\nNational Merit Scholar, 2014  \\nNational AP Scholar Award, 2004  \\nCum Lau de Society, 2014', start_char_idx=0, end_char_idx=1531, text_template='{metadata_str}\\n\\n{content}', metadata_template='{key}: {value}', metadata_seperator='\\n'), score=None)], metadata={'9d703c85-0886-43e6-ae5e-45fb9a9b5c1c': {'page_label': '1', 'file_name': 'sample-resumes_one.pdf', 'file_path': 'C:\\\\Users\\\\Madhumita\\\\Documents\\\\Tina Docs\\\\UT BC\\\\Proj 4\\\\MY OWN EXPERIMENTS\\\\data\\\\sample-resumes_one.pdf', 'file_type': 'application/pdf', 'file_size': 67244, 'creation_date': '2024-05-02', 'last_modified_date': '2024-05-02'}}), source_nodes=[], metadata=None)"
      ]
     },
     "execution_count": 20,
     "metadata": {},
     "output_type": "execute_result"
    }
   ],
   "source": [
    "pprint_utils.Response(summary_response, show_source=True)"
   ]
  },
  {
   "cell_type": "code",
   "execution_count": 21,
   "id": "857032da",
   "metadata": {
    "scrolled": true
   },
   "outputs": [
    {
     "name": "stdout",
     "output_type": "stream",
     "text": [
      "\n",
      "    The document Summary is: \n",
      "     The document is a resume of a candidate with a Bachelor of Science in Computer Science from Carnegie Mellon University. The candidate has experience in programming, including creating a text-based adventure game in Python. They have worked as an intern assisting in data analysis and as a tutor for middle school students. The candidate is proficient in Python and has been involved in various activities and received honors during their academic career.\n"
     ]
    }
   ],
   "source": [
    "# Automated Document Summary\n",
    "print('''\n",
    "    The document Summary is: \n",
    "    ''', summary_response.response\n",
    ")"
   ]
  }
 ],
 "metadata": {
  "hide_input": false,
  "kernelspec": {
   "display_name": "Python 3 (ipykernel)",
   "language": "python",
   "name": "python3"
  },
  "language_info": {
   "codemirror_mode": {
    "name": "ipython",
    "version": 3
   },
   "file_extension": ".py",
   "mimetype": "text/x-python",
   "name": "python",
   "nbconvert_exporter": "python",
   "pygments_lexer": "ipython3",
   "version": "3.10.13"
  }
 },
 "nbformat": 4,
 "nbformat_minor": 5
}
